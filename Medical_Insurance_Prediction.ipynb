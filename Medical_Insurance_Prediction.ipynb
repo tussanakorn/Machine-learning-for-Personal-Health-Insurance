{
  "nbformat": 4,
  "nbformat_minor": 0,
  "metadata": {
    "colab": {
      "name": "Medical_Insurance_Prediction.ipynb",
      "provenance": [],
      "toc_visible": true,
      "authorship_tag": "ABX9TyP5bZ6Xq2mi3qyZOxuF3aX0",
      "include_colab_link": true
    },
    "kernelspec": {
      "name": "python3",
      "display_name": "Python 3"
    },
    "language_info": {
      "name": "python"
    }
  },
  "cells": [
    {
      "cell_type": "markdown",
      "metadata": {
        "id": "view-in-github",
        "colab_type": "text"
      },
      "source": [
        "<a href=\"https://colab.research.google.com/github/tussanakorn/Medical-Insurance-Prediction/blob/master/Medical_Insurance_Prediction.ipynb\" target=\"_parent\"><img src=\"https://colab.research.google.com/assets/colab-badge.svg\" alt=\"Open In Colab\"/></a>"
      ]
    },
    {
      "cell_type": "markdown",
      "metadata": {
        "id": "MtewIdlSKjHF"
      },
      "source": [
        "# Medical Insurance Premium Prediction\n",
        "\n",
        "---\n",
        "\n"
      ]
    },
    {
      "cell_type": "code",
      "metadata": {
        "colab": {
          "base_uri": "https://localhost:8080/"
        },
        "id": "IDxzKeWbfzzw",
        "outputId": "1ee88a97-a8b4-49fa-c12d-854080ff6bfb"
      },
      "source": [
        "!gdown --id 1McYhjHJdLYspvlKIwP6T5DXgViL0Ne16"
      ],
      "execution_count": 32,
      "outputs": [
        {
          "output_type": "stream",
          "name": "stdout",
          "text": [
            "Downloading...\n",
            "From: https://drive.google.com/uc?id=1McYhjHJdLYspvlKIwP6T5DXgViL0Ne16\n",
            "To: /content/Medicalpremium.csv\n",
            "\r  0% 0.00/30.8k [00:00<?, ?B/s]\r100% 30.8k/30.8k [00:00<00:00, 47.8MB/s]\n"
          ]
        }
      ]
    },
    {
      "cell_type": "markdown",
      "metadata": {
        "id": "HJnuZb2HbOJb"
      },
      "source": [
        "# Get data"
      ]
    },
    {
      "cell_type": "code",
      "metadata": {
        "id": "f0z182SABma6"
      },
      "source": [
        "import pandas as pd\n",
        "import seaborn as sns\n",
        "import numpy as np\n",
        "import matplotlib.pyplot as plt\n",
        "from pandas.api.types import is_string_dtype, is_numeric_dtype"
      ],
      "execution_count": 33,
      "outputs": []
    },
    {
      "cell_type": "code",
      "metadata": {
        "colab": {
          "base_uri": "https://localhost:8080/",
          "height": 206
        },
        "id": "84PnQEN3gJvp",
        "outputId": "610b9781-fe34-4543-febd-fa12086deb3e"
      },
      "source": [
        "df = pd.read_csv('/content/Medicalpremium.csv')\n",
        "df.head()"
      ],
      "execution_count": 34,
      "outputs": [
        {
          "output_type": "execute_result",
          "data": {
            "text/html": [
              "<div>\n",
              "<style scoped>\n",
              "    .dataframe tbody tr th:only-of-type {\n",
              "        vertical-align: middle;\n",
              "    }\n",
              "\n",
              "    .dataframe tbody tr th {\n",
              "        vertical-align: top;\n",
              "    }\n",
              "\n",
              "    .dataframe thead th {\n",
              "        text-align: right;\n",
              "    }\n",
              "</style>\n",
              "<table border=\"1\" class=\"dataframe\">\n",
              "  <thead>\n",
              "    <tr style=\"text-align: right;\">\n",
              "      <th></th>\n",
              "      <th>Age</th>\n",
              "      <th>Diabetes</th>\n",
              "      <th>BloodPressureProblems</th>\n",
              "      <th>AnyTransplants</th>\n",
              "      <th>AnyChronicDiseases</th>\n",
              "      <th>Height</th>\n",
              "      <th>Weight</th>\n",
              "      <th>KnownAllergies</th>\n",
              "      <th>HistoryOfCancerInFamily</th>\n",
              "      <th>NumberOfMajorSurgeries</th>\n",
              "      <th>PremiumPrice</th>\n",
              "    </tr>\n",
              "  </thead>\n",
              "  <tbody>\n",
              "    <tr>\n",
              "      <th>0</th>\n",
              "      <td>45</td>\n",
              "      <td>0</td>\n",
              "      <td>0</td>\n",
              "      <td>0</td>\n",
              "      <td>0</td>\n",
              "      <td>155</td>\n",
              "      <td>57</td>\n",
              "      <td>0</td>\n",
              "      <td>0</td>\n",
              "      <td>0</td>\n",
              "      <td>25000</td>\n",
              "    </tr>\n",
              "    <tr>\n",
              "      <th>1</th>\n",
              "      <td>60</td>\n",
              "      <td>1</td>\n",
              "      <td>0</td>\n",
              "      <td>0</td>\n",
              "      <td>0</td>\n",
              "      <td>180</td>\n",
              "      <td>73</td>\n",
              "      <td>0</td>\n",
              "      <td>0</td>\n",
              "      <td>0</td>\n",
              "      <td>29000</td>\n",
              "    </tr>\n",
              "    <tr>\n",
              "      <th>2</th>\n",
              "      <td>36</td>\n",
              "      <td>1</td>\n",
              "      <td>1</td>\n",
              "      <td>0</td>\n",
              "      <td>0</td>\n",
              "      <td>158</td>\n",
              "      <td>59</td>\n",
              "      <td>0</td>\n",
              "      <td>0</td>\n",
              "      <td>1</td>\n",
              "      <td>23000</td>\n",
              "    </tr>\n",
              "    <tr>\n",
              "      <th>3</th>\n",
              "      <td>52</td>\n",
              "      <td>1</td>\n",
              "      <td>1</td>\n",
              "      <td>0</td>\n",
              "      <td>1</td>\n",
              "      <td>183</td>\n",
              "      <td>93</td>\n",
              "      <td>0</td>\n",
              "      <td>0</td>\n",
              "      <td>2</td>\n",
              "      <td>28000</td>\n",
              "    </tr>\n",
              "    <tr>\n",
              "      <th>4</th>\n",
              "      <td>38</td>\n",
              "      <td>0</td>\n",
              "      <td>0</td>\n",
              "      <td>0</td>\n",
              "      <td>1</td>\n",
              "      <td>166</td>\n",
              "      <td>88</td>\n",
              "      <td>0</td>\n",
              "      <td>0</td>\n",
              "      <td>1</td>\n",
              "      <td>23000</td>\n",
              "    </tr>\n",
              "  </tbody>\n",
              "</table>\n",
              "</div>"
            ],
            "text/plain": [
              "   Age  Diabetes  ...  NumberOfMajorSurgeries  PremiumPrice\n",
              "0   45         0  ...                       0         25000\n",
              "1   60         1  ...                       0         29000\n",
              "2   36         1  ...                       1         23000\n",
              "3   52         1  ...                       2         28000\n",
              "4   38         0  ...                       1         23000\n",
              "\n",
              "[5 rows x 11 columns]"
            ]
          },
          "metadata": {},
          "execution_count": 34
        }
      ]
    },
    {
      "cell_type": "markdown",
      "metadata": {
        "id": "exC1Dokgbaes"
      },
      "source": [
        "# EDA"
      ]
    },
    {
      "cell_type": "code",
      "metadata": {
        "colab": {
          "base_uri": "https://localhost:8080/"
        },
        "id": "9QD19yzXB0zC",
        "outputId": "2aa7ca16-6180-4f15-eb5f-1876e8fbaed3"
      },
      "source": [
        "df.info()"
      ],
      "execution_count": 35,
      "outputs": [
        {
          "output_type": "stream",
          "name": "stdout",
          "text": [
            "<class 'pandas.core.frame.DataFrame'>\n",
            "RangeIndex: 986 entries, 0 to 985\n",
            "Data columns (total 11 columns):\n",
            " #   Column                   Non-Null Count  Dtype\n",
            "---  ------                   --------------  -----\n",
            " 0   Age                      986 non-null    int64\n",
            " 1   Diabetes                 986 non-null    int64\n",
            " 2   BloodPressureProblems    986 non-null    int64\n",
            " 3   AnyTransplants           986 non-null    int64\n",
            " 4   AnyChronicDiseases       986 non-null    int64\n",
            " 5   Height                   986 non-null    int64\n",
            " 6   Weight                   986 non-null    int64\n",
            " 7   KnownAllergies           986 non-null    int64\n",
            " 8   HistoryOfCancerInFamily  986 non-null    int64\n",
            " 9   NumberOfMajorSurgeries   986 non-null    int64\n",
            " 10  PremiumPrice             986 non-null    int64\n",
            "dtypes: int64(11)\n",
            "memory usage: 84.9 KB\n"
          ]
        }
      ]
    },
    {
      "cell_type": "code",
      "metadata": {
        "colab": {
          "base_uri": "https://localhost:8080/",
          "height": 300
        },
        "id": "1X9hg5BNB3RX",
        "outputId": "fa5266a5-882f-47fd-d182-e63535207ce3"
      },
      "source": [
        "df.describe(include = 'all')"
      ],
      "execution_count": 36,
      "outputs": [
        {
          "output_type": "execute_result",
          "data": {
            "text/html": [
              "<div>\n",
              "<style scoped>\n",
              "    .dataframe tbody tr th:only-of-type {\n",
              "        vertical-align: middle;\n",
              "    }\n",
              "\n",
              "    .dataframe tbody tr th {\n",
              "        vertical-align: top;\n",
              "    }\n",
              "\n",
              "    .dataframe thead th {\n",
              "        text-align: right;\n",
              "    }\n",
              "</style>\n",
              "<table border=\"1\" class=\"dataframe\">\n",
              "  <thead>\n",
              "    <tr style=\"text-align: right;\">\n",
              "      <th></th>\n",
              "      <th>Age</th>\n",
              "      <th>Diabetes</th>\n",
              "      <th>BloodPressureProblems</th>\n",
              "      <th>AnyTransplants</th>\n",
              "      <th>AnyChronicDiseases</th>\n",
              "      <th>Height</th>\n",
              "      <th>Weight</th>\n",
              "      <th>KnownAllergies</th>\n",
              "      <th>HistoryOfCancerInFamily</th>\n",
              "      <th>NumberOfMajorSurgeries</th>\n",
              "      <th>PremiumPrice</th>\n",
              "    </tr>\n",
              "  </thead>\n",
              "  <tbody>\n",
              "    <tr>\n",
              "      <th>count</th>\n",
              "      <td>986.000000</td>\n",
              "      <td>986.000000</td>\n",
              "      <td>986.000000</td>\n",
              "      <td>986.000000</td>\n",
              "      <td>986.000000</td>\n",
              "      <td>986.000000</td>\n",
              "      <td>986.000000</td>\n",
              "      <td>986.000000</td>\n",
              "      <td>986.000000</td>\n",
              "      <td>986.000000</td>\n",
              "      <td>986.000000</td>\n",
              "    </tr>\n",
              "    <tr>\n",
              "      <th>mean</th>\n",
              "      <td>41.745436</td>\n",
              "      <td>0.419878</td>\n",
              "      <td>0.468560</td>\n",
              "      <td>0.055781</td>\n",
              "      <td>0.180527</td>\n",
              "      <td>168.182556</td>\n",
              "      <td>76.950304</td>\n",
              "      <td>0.215010</td>\n",
              "      <td>0.117647</td>\n",
              "      <td>0.667343</td>\n",
              "      <td>24336.713996</td>\n",
              "    </tr>\n",
              "    <tr>\n",
              "      <th>std</th>\n",
              "      <td>13.963371</td>\n",
              "      <td>0.493789</td>\n",
              "      <td>0.499264</td>\n",
              "      <td>0.229615</td>\n",
              "      <td>0.384821</td>\n",
              "      <td>10.098155</td>\n",
              "      <td>14.265096</td>\n",
              "      <td>0.411038</td>\n",
              "      <td>0.322353</td>\n",
              "      <td>0.749205</td>\n",
              "      <td>6248.184382</td>\n",
              "    </tr>\n",
              "    <tr>\n",
              "      <th>min</th>\n",
              "      <td>18.000000</td>\n",
              "      <td>0.000000</td>\n",
              "      <td>0.000000</td>\n",
              "      <td>0.000000</td>\n",
              "      <td>0.000000</td>\n",
              "      <td>145.000000</td>\n",
              "      <td>51.000000</td>\n",
              "      <td>0.000000</td>\n",
              "      <td>0.000000</td>\n",
              "      <td>0.000000</td>\n",
              "      <td>15000.000000</td>\n",
              "    </tr>\n",
              "    <tr>\n",
              "      <th>25%</th>\n",
              "      <td>30.000000</td>\n",
              "      <td>0.000000</td>\n",
              "      <td>0.000000</td>\n",
              "      <td>0.000000</td>\n",
              "      <td>0.000000</td>\n",
              "      <td>161.000000</td>\n",
              "      <td>67.000000</td>\n",
              "      <td>0.000000</td>\n",
              "      <td>0.000000</td>\n",
              "      <td>0.000000</td>\n",
              "      <td>21000.000000</td>\n",
              "    </tr>\n",
              "    <tr>\n",
              "      <th>50%</th>\n",
              "      <td>42.000000</td>\n",
              "      <td>0.000000</td>\n",
              "      <td>0.000000</td>\n",
              "      <td>0.000000</td>\n",
              "      <td>0.000000</td>\n",
              "      <td>168.000000</td>\n",
              "      <td>75.000000</td>\n",
              "      <td>0.000000</td>\n",
              "      <td>0.000000</td>\n",
              "      <td>1.000000</td>\n",
              "      <td>23000.000000</td>\n",
              "    </tr>\n",
              "    <tr>\n",
              "      <th>75%</th>\n",
              "      <td>53.000000</td>\n",
              "      <td>1.000000</td>\n",
              "      <td>1.000000</td>\n",
              "      <td>0.000000</td>\n",
              "      <td>0.000000</td>\n",
              "      <td>176.000000</td>\n",
              "      <td>87.000000</td>\n",
              "      <td>0.000000</td>\n",
              "      <td>0.000000</td>\n",
              "      <td>1.000000</td>\n",
              "      <td>28000.000000</td>\n",
              "    </tr>\n",
              "    <tr>\n",
              "      <th>max</th>\n",
              "      <td>66.000000</td>\n",
              "      <td>1.000000</td>\n",
              "      <td>1.000000</td>\n",
              "      <td>1.000000</td>\n",
              "      <td>1.000000</td>\n",
              "      <td>188.000000</td>\n",
              "      <td>132.000000</td>\n",
              "      <td>1.000000</td>\n",
              "      <td>1.000000</td>\n",
              "      <td>3.000000</td>\n",
              "      <td>40000.000000</td>\n",
              "    </tr>\n",
              "  </tbody>\n",
              "</table>\n",
              "</div>"
            ],
            "text/plain": [
              "              Age    Diabetes  ...  NumberOfMajorSurgeries  PremiumPrice\n",
              "count  986.000000  986.000000  ...              986.000000    986.000000\n",
              "mean    41.745436    0.419878  ...                0.667343  24336.713996\n",
              "std     13.963371    0.493789  ...                0.749205   6248.184382\n",
              "min     18.000000    0.000000  ...                0.000000  15000.000000\n",
              "25%     30.000000    0.000000  ...                0.000000  21000.000000\n",
              "50%     42.000000    0.000000  ...                1.000000  23000.000000\n",
              "75%     53.000000    1.000000  ...                1.000000  28000.000000\n",
              "max     66.000000    1.000000  ...                3.000000  40000.000000\n",
              "\n",
              "[8 rows x 11 columns]"
            ]
          },
          "metadata": {},
          "execution_count": 36
        }
      ]
    },
    {
      "cell_type": "code",
      "metadata": {
        "colab": {
          "base_uri": "https://localhost:8080/"
        },
        "id": "gKj4suukB41_",
        "outputId": "24c74686-7f34-45ae-eae5-7105a118de2a"
      },
      "source": [
        "df.isnull().sum()"
      ],
      "execution_count": 37,
      "outputs": [
        {
          "output_type": "execute_result",
          "data": {
            "text/plain": [
              "Age                        0\n",
              "Diabetes                   0\n",
              "BloodPressureProblems      0\n",
              "AnyTransplants             0\n",
              "AnyChronicDiseases         0\n",
              "Height                     0\n",
              "Weight                     0\n",
              "KnownAllergies             0\n",
              "HistoryOfCancerInFamily    0\n",
              "NumberOfMajorSurgeries     0\n",
              "PremiumPrice               0\n",
              "dtype: int64"
            ]
          },
          "metadata": {},
          "execution_count": 37
        }
      ]
    },
    {
      "cell_type": "code",
      "metadata": {
        "colab": {
          "base_uri": "https://localhost:8080/",
          "height": 675
        },
        "id": "bvwDNB8DZwtF",
        "outputId": "f2f6a2f1-9dd6-4479-ab5f-ac8931530bf7"
      },
      "source": [
        "plt.figure(figsize=(16,9))\n",
        "sns.heatmap(df.corr(),annot=True,cmap='viridis',linewidths=.1)"
      ],
      "execution_count": 38,
      "outputs": [
        {
          "output_type": "execute_result",
          "data": {
            "text/plain": [
              "<matplotlib.axes._subplots.AxesSubplot at 0x7f284d3f8c90>"
            ]
          },
          "metadata": {},
          "execution_count": 38
        },
        {
          "output_type": "display_data",
          "data": {
            "image/png": "[encoded data removed]",
            "text/plain": [
              "<Figure size 1152x648 with 2 Axes>"
            ]
          },
          "metadata": {
            "needs_background": "light"
          }
        }
      ]
    },
    {
      "cell_type": "code",
      "metadata": {
        "id": "l0_M9S2kEiQx"
      },
      "source": [
        "x=df.drop('PremiumPrice',axis=1)\n",
        "y=df['PremiumPrice']"
      ],
      "execution_count": 39,
      "outputs": []
    },
    {
      "cell_type": "code",
      "metadata": {
        "id": "dVEvmqXEEna4",
        "colab": {
          "base_uri": "https://localhost:8080/",
          "height": 363
        },
        "outputId": "c3625426-ee40-42de-a481-fa99e540a903"
      },
      "source": [
        "from sklearn.feature_selection import SelectKBest\n",
        "from sklearn.feature_selection import chi2\n",
        "bestfeatures = SelectKBest(score_func=chi2,k=10)\n",
        "fit= bestfeatures.fit(x,y)\n",
        "dfscores = pd.DataFrame(fit.scores_)\n",
        "dfcolumns = pd.DataFrame(x.columns)\n",
        "featureScores = pd.concat([dfcolumns,dfscores],axis=1)\n",
        "featureScores.columns = ['Specs','Score']\n",
        "featureScores"
      ],
      "execution_count": 40,
      "outputs": [
        {
          "output_type": "execute_result",
          "data": {
            "text/html": [
              "<div>\n",
              "<style scoped>\n",
              "    .dataframe tbody tr th:only-of-type {\n",
              "        vertical-align: middle;\n",
              "    }\n",
              "\n",
              "    .dataframe tbody tr th {\n",
              "        vertical-align: top;\n",
              "    }\n",
              "\n",
              "    .dataframe thead th {\n",
              "        text-align: right;\n",
              "    }\n",
              "</style>\n",
              "<table border=\"1\" class=\"dataframe\">\n",
              "  <thead>\n",
              "    <tr style=\"text-align: right;\">\n",
              "      <th></th>\n",
              "      <th>Specs</th>\n",
              "      <th>Score</th>\n",
              "    </tr>\n",
              "  </thead>\n",
              "  <tbody>\n",
              "    <tr>\n",
              "      <th>0</th>\n",
              "      <td>Age</td>\n",
              "      <td>3684.410789</td>\n",
              "    </tr>\n",
              "    <tr>\n",
              "      <th>1</th>\n",
              "      <td>Diabetes</td>\n",
              "      <td>38.131379</td>\n",
              "    </tr>\n",
              "    <tr>\n",
              "      <th>2</th>\n",
              "      <td>BloodPressureProblems</td>\n",
              "      <td>47.971786</td>\n",
              "    </tr>\n",
              "    <tr>\n",
              "      <th>3</th>\n",
              "      <td>AnyTransplants</td>\n",
              "      <td>605.471967</td>\n",
              "    </tr>\n",
              "    <tr>\n",
              "      <th>4</th>\n",
              "      <td>AnyChronicDiseases</td>\n",
              "      <td>300.219653</td>\n",
              "    </tr>\n",
              "    <tr>\n",
              "      <th>5</th>\n",
              "      <td>Height</td>\n",
              "      <td>9.630908</td>\n",
              "    </tr>\n",
              "    <tr>\n",
              "      <th>6</th>\n",
              "      <td>Weight</td>\n",
              "      <td>631.927366</td>\n",
              "    </tr>\n",
              "    <tr>\n",
              "      <th>7</th>\n",
              "      <td>KnownAllergies</td>\n",
              "      <td>39.431808</td>\n",
              "    </tr>\n",
              "    <tr>\n",
              "      <th>8</th>\n",
              "      <td>HistoryOfCancerInFamily</td>\n",
              "      <td>268.761684</td>\n",
              "    </tr>\n",
              "    <tr>\n",
              "      <th>9</th>\n",
              "      <td>NumberOfMajorSurgeries</td>\n",
              "      <td>513.597250</td>\n",
              "    </tr>\n",
              "  </tbody>\n",
              "</table>\n",
              "</div>"
            ],
            "text/plain": [
              "                     Specs        Score\n",
              "0                      Age  3684.410789\n",
              "1                 Diabetes    38.131379\n",
              "2    BloodPressureProblems    47.971786\n",
              "3           AnyTransplants   605.471967\n",
              "4       AnyChronicDiseases   300.219653\n",
              "5                   Height     9.630908\n",
              "6                   Weight   631.927366\n",
              "7           KnownAllergies    39.431808\n",
              "8  HistoryOfCancerInFamily   268.761684\n",
              "9   NumberOfMajorSurgeries   513.597250"
            ]
          },
          "metadata": {},
          "execution_count": 40
        }
      ]
    },
    {
      "cell_type": "code",
      "metadata": {
        "colab": {
          "base_uri": "https://localhost:8080/"
        },
        "id": "2LtaxlYLEu4A",
        "outputId": "78d0b02f-1493-4fa5-e080-356845bef240"
      },
      "source": [
        "from sklearn.ensemble import ExtraTreesClassifier\n",
        "model = ExtraTreesClassifier()\n",
        "model.fit(x,y)\n",
        "print(model.feature_importances_)"
      ],
      "execution_count": 41,
      "outputs": [
        {
          "output_type": "stream",
          "name": "stdout",
          "text": [
            "[0.39513251 0.02366781 0.02264193 0.03773325 0.04870581 0.11000553\n",
            " 0.15925372 0.0231587  0.03275875 0.14694198]\n"
          ]
        }
      ]
    },
    {
      "cell_type": "code",
      "metadata": {
        "colab": {
          "base_uri": "https://localhost:8080/",
          "height": 265
        },
        "id": "NFnZhPWZExa4",
        "outputId": "0b42f6b3-968f-4db0-f81b-9e06b35d0d73"
      },
      "source": [
        "feat_imp =pd.Series(model.feature_importances_,index=x.columns)\n",
        "feat_imp.nlargest(10).plot(kind='barh')\n",
        "plt.show()"
      ],
      "execution_count": 42,
      "outputs": [
        {
          "output_type": "display_data",
          "data": {
            "image/png": "[encoded data removed]",
            "text/plain": [
              "<Figure size 432x288 with 1 Axes>"
            ]
          },
          "metadata": {
            "needs_background": "light"
          }
        }
      ]
    },
    {
      "cell_type": "code",
      "metadata": {
        "id": "M1c8Bj75E0Tp"
      },
      "source": [
        "# X = x.drop(['Diabetes','KnownAllergies','BloodPressureProblems'],axis=1)\n",
        "# x.head()"
      ],
      "execution_count": 43,
      "outputs": []
    },
    {
      "cell_type": "markdown",
      "metadata": {
        "id": "zbxV54zea-rp"
      },
      "source": [
        "# Train model"
      ]
    },
    {
      "cell_type": "code",
      "metadata": {
        "id": "uoGdKxmBE1-7"
      },
      "source": [
        "from sklearn.model_selection import train_test_split\n",
        "from sklearn import preprocessing\n",
        "scaler = preprocessing.StandardScaler()\n",
        "X_train, X_test, Y_train, Y_test = train_test_split(x,y,test_size=0.3,random_state=43)"
      ],
      "execution_count": 44,
      "outputs": []
    },
    {
      "cell_type": "code",
      "metadata": {
        "id": "vX9ao-ZYOPSj"
      },
      "source": [
        "scaler.fit(X_train)\n",
        "X_train = scaler.transform(X_train)\n",
        "X_test = scaler.transform(X_test)"
      ],
      "execution_count": 45,
      "outputs": []
    },
    {
      "cell_type": "markdown",
      "metadata": {
        "id": "9OlnjbpobFtK"
      },
      "source": [
        "# Create Model"
      ]
    },
    {
      "cell_type": "code",
      "metadata": {
        "id": "EK2urPi4E4zY"
      },
      "source": [
        "from sklearn.tree import DecisionTreeClassifier\n",
        "from sklearn.ensemble import RandomForestClassifier\n",
        "from sklearn.ensemble import RandomForestRegressor\n",
        "from sklearn.ensemble import GradientBoostingRegressor\n",
        "from sklearn.metrics import accuracy_score"
      ],
      "execution_count": 46,
      "outputs": []
    },
    {
      "cell_type": "markdown",
      "metadata": {
        "id": "AinK42qaK_VH"
      },
      "source": [
        "## DecisionTreeClassifier"
      ]
    },
    {
      "cell_type": "code",
      "metadata": {
        "colab": {
          "base_uri": "https://localhost:8080/"
        },
        "id": "WhjJQvrZE58P",
        "outputId": "8bf282e2-3f8a-4a83-bdc8-6a1e36519d5a"
      },
      "source": [
        "d_tree = DecisionTreeClassifier()\n",
        "mod_tree = d_tree.fit(X_train,Y_train)\n",
        "y_pred_tree= mod_tree.predict(X_test)\n",
        "y_prob_tree =mod_tree.predict_proba(X_test)\n",
        "acc=accuracy_score(Y_test,y_pred_tree)\n",
        "acc"
      ],
      "execution_count": 47,
      "outputs": [
        {
          "output_type": "execute_result",
          "data": {
            "text/plain": [
              "0.8918918918918919"
            ]
          },
          "metadata": {},
          "execution_count": 47
        }
      ]
    },
    {
      "cell_type": "markdown",
      "metadata": {
        "id": "h7jS3PY3LE2r"
      },
      "source": [
        "## RandomForestClassifier"
      ]
    },
    {
      "cell_type": "code",
      "metadata": {
        "colab": {
          "base_uri": "https://localhost:8080/"
        },
        "id": "cd2OH7LyE7rg",
        "outputId": "86416c8a-d077-4065-bb4f-9bbf9b406f70"
      },
      "source": [
        "rf = RandomForestClassifier()\n",
        "mod_rf = rf.fit(X_train,Y_train)\n",
        "y_pred_rf = mod_rf.predict(X_test)\n",
        "y_prob_rf = mod_rf.predict_proba(X_test)\n",
        "acc=accuracy_score(Y_test,y_pred_rf)\n",
        "acc"
      ],
      "execution_count": 48,
      "outputs": [
        {
          "output_type": "execute_result",
          "data": {
            "text/plain": [
              "0.9358108108108109"
            ]
          },
          "metadata": {},
          "execution_count": 48
        }
      ]
    },
    {
      "cell_type": "markdown",
      "metadata": {
        "id": "dvg_t4kzLIsv"
      },
      "source": [
        "## RandomForestRegressor"
      ]
    },
    {
      "cell_type": "code",
      "metadata": {
        "colab": {
          "base_uri": "https://localhost:8080/"
        },
        "id": "F_NAPjhqbQ1j",
        "outputId": "4531a3ed-1ad0-4587-cb78-d478b036a115"
      },
      "source": [
        "rfr = RandomForestRegressor()\n",
        "mod_rfr = rfr.fit(X_train,Y_train)\n",
        "\n",
        "from sklearn.metrics import mean_squared_error\n",
        "import math\n",
        "\n",
        "predictions = mod_rfr.predict(X_test)\n",
        "MSE = mean_squared_error(predictions, Y_test)\n",
        "RMSE = math.sqrt(MSE)\n",
        "print(\"Root Mean Square Error:\\n\")\n",
        "print(RMSE)"
      ],
      "execution_count": 49,
      "outputs": [
        {
          "output_type": "stream",
          "name": "stdout",
          "text": [
            "Root Mean Square Error:\n",
            "\n",
            "2626.816617227122\n"
          ]
        }
      ]
    },
    {
      "cell_type": "markdown",
      "metadata": {
        "id": "suImZkq3Mj2j"
      },
      "source": [
        "## GradientBoostingRegressor"
      ]
    },
    {
      "cell_type": "code",
      "metadata": {
        "colab": {
          "base_uri": "https://localhost:8080/"
        },
        "id": "kE5mQ5svWz0f",
        "outputId": "00276600-41bc-448f-d6ba-befacebb3e11"
      },
      "source": [
        "XGB = GradientBoostingRegressor()\n",
        "mod_XGB = XGB.fit(X_train, Y_train)\n",
        "\n",
        "from sklearn.metrics import mean_squared_error\n",
        "import math\n",
        "\n",
        "predictions = XGB.predict(X_test)\n",
        "MSE = mean_squared_error(predictions, Y_test)\n",
        "RMSE = math.sqrt(MSE)\n",
        "print(\"Root Mean Square Error:\\n\")\n",
        "print(RMSE)"
      ],
      "execution_count": 50,
      "outputs": [
        {
          "output_type": "stream",
          "name": "stdout",
          "text": [
            "Root Mean Square Error:\n",
            "\n",
            "2787.0738446883606\n"
          ]
        }
      ]
    },
    {
      "cell_type": "code",
      "metadata": {
        "colab": {
          "base_uri": "https://localhost:8080/"
        },
        "id": "hz2X7NoJH-3A",
        "outputId": "f6d06339-8bd9-4cee-b767-051b739aed1b"
      },
      "source": [
        "y_predict = mod_rfr.predict(X_test)\n",
        "y_predict"
      ],
      "execution_count": 51,
      "outputs": [
        {
          "output_type": "execute_result",
          "data": {
            "text/plain": [
              "array([20250., 15020., 24460., 15750., 23000., 28970., 29640., 25000.,\n",
              "       30530., 23210., 25000., 23140., 28680., 26630., 28970., 16280.,\n",
              "       28020., 23520., 23780., 34120., 30000., 23000., 23000., 19020.,\n",
              "       15000., 23000., 21280., 28000., 25120., 22950., 15290., 28910.,\n",
              "       25120., 29000., 18970., 23000., 30250., 17140., 23080., 23080.,\n",
              "       22980., 23070., 23000., 21120., 28990., 31420., 23000., 34350.,\n",
              "       29300., 20570., 24700., 25000., 28020., 28490., 25100., 28120.,\n",
              "       25400., 15210., 23000., 23180., 36280., 23000., 15300., 23440.,\n",
              "       27110., 28000., 25000., 23250., 37190., 19080., 25640., 23000.,\n",
              "       21100., 37700., 15970., 24350., 16770., 21080., 23130., 23000.,\n",
              "       28000., 20220., 15420., 15000., 23000., 28970., 32280., 21730.,\n",
              "       28120., 25000., 37240., 25000., 25000., 15000., 25100., 28000.,\n",
              "       23630., 21160., 28640., 15240., 18790., 33870., 28000., 23000.,\n",
              "       22260., 28970., 37510., 24580., 23000., 30270., 29000., 23710.,\n",
              "       15960., 21100., 23090., 31500., 27650., 24440., 24020., 24460.,\n",
              "       23000., 28000., 25000., 15240., 24580., 29860., 23000., 23550.,\n",
              "       28000., 28750., 23040., 27760., 15000., 27980., 15000., 17970.,\n",
              "       15240., 23000., 16500., 31580., 29480., 15150., 27830., 16020.,\n",
              "       29370., 23070., 23000., 15090., 23250., 28290., 27210., 23280.,\n",
              "       20210., 16740., 28740., 22880., 15000., 15000., 28170., 28950.,\n",
              "       25800., 15360., 27230., 27880., 28000., 24600., 17500., 23300.,\n",
              "       22950., 28000., 23000., 15300., 28000., 23020., 28000., 34160.,\n",
              "       23000., 23320., 19070., 28900., 15210., 28000., 23000., 28020.,\n",
              "       28910., 15210., 29000., 29040., 27820., 17090., 27550., 23000.,\n",
              "       15000., 36640., 24740., 15170., 29000., 23520., 28000., 28580.,\n",
              "       30230., 24220., 29550., 21730., 30120., 15630., 16680., 34640.,\n",
              "       25150., 27880., 28030., 19130., 15210., 15030., 36010., 23020.,\n",
              "       30360., 25080., 25550., 34540., 21200., 15520., 23030., 22740.,\n",
              "       29470., 27890., 28000., 25000., 24000., 16290., 19800., 28120.,\n",
              "       29480., 28090., 16820., 29000., 36910., 22950., 15000., 19320.,\n",
              "       23030., 27910., 15000., 15000., 27820., 25000., 15860., 15000.,\n",
              "       28000., 28120., 15520., 23450., 15320., 15000., 21250., 23810.,\n",
              "       28200., 29670., 23350., 25000., 25000., 29460., 15200., 23250.,\n",
              "       24540., 19370., 25050., 28100., 24260., 18230., 25580., 17420.,\n",
              "       31010., 30980., 18110., 27980., 24020., 23260., 23070., 24910.,\n",
              "       32310., 37660., 23120., 37010., 30420., 24950., 28760., 15000.,\n",
              "       29000., 15050., 15350., 29000., 29000., 23040., 23720., 15110.])"
            ]
          },
          "metadata": {},
          "execution_count": 51
        }
      ]
    },
    {
      "cell_type": "code",
      "metadata": {
        "colab": {
          "base_uri": "https://localhost:8080/"
        },
        "id": "JUHQm72xLEvg",
        "outputId": "5ef2330c-7953-4519-9273-7d6e3fb04ebc"
      },
      "source": [
        "from sklearn.metrics import mean_squared_error , r2_score\n",
        "\n",
        "rmse = np.sqrt(mean_squared_error(Y_test,y_predict))\n",
        "print('RMSE (Root Mean Squared Error) =',round(rmse,3))\n",
        "\n",
        "r2 = r2_score(Y_test,y_predict)\n",
        "print('R2 score =',round(r2,3))"
      ],
      "execution_count": 52,
      "outputs": [
        {
          "output_type": "stream",
          "name": "stdout",
          "text": [
            "RMSE (Root Mean Squared Error) = 2626.817\n",
            "R2 score = 0.835\n"
          ]
        }
      ]
    },
    {
      "cell_type": "code",
      "metadata": {
        "colab": {
          "base_uri": "https://localhost:8080/"
        },
        "id": "YD42ZvTbNuyr",
        "outputId": "8a26e56d-4545-4828-a0a1-00b2858d28b0"
      },
      "source": [
        "print(len(Y_test))\n",
        "print(len(y_predict))"
      ],
      "execution_count": 53,
      "outputs": [
        {
          "output_type": "stream",
          "name": "stdout",
          "text": [
            "296\n",
            "296\n"
          ]
        }
      ]
    },
    {
      "cell_type": "code",
      "metadata": {
        "id": "KrbxisNhP0d9",
        "colab": {
          "base_uri": "https://localhost:8080/",
          "height": 206
        },
        "outputId": "5afbe522-70cc-439e-bd2c-8e37ee6c35bf"
      },
      "source": [
        "compare_df = Y_test.to_frame()\n",
        "compare_df.head()"
      ],
      "execution_count": 54,
      "outputs": [
        {
          "output_type": "execute_result",
          "data": {
            "text/html": [
              "<div>\n",
              "<style scoped>\n",
              "    .dataframe tbody tr th:only-of-type {\n",
              "        vertical-align: middle;\n",
              "    }\n",
              "\n",
              "    .dataframe tbody tr th {\n",
              "        vertical-align: top;\n",
              "    }\n",
              "\n",
              "    .dataframe thead th {\n",
              "        text-align: right;\n",
              "    }\n",
              "</style>\n",
              "<table border=\"1\" class=\"dataframe\">\n",
              "  <thead>\n",
              "    <tr style=\"text-align: right;\">\n",
              "      <th></th>\n",
              "      <th>PremiumPrice</th>\n",
              "    </tr>\n",
              "  </thead>\n",
              "  <tbody>\n",
              "    <tr>\n",
              "      <th>462</th>\n",
              "      <td>15000</td>\n",
              "    </tr>\n",
              "    <tr>\n",
              "      <th>883</th>\n",
              "      <td>15000</td>\n",
              "    </tr>\n",
              "    <tr>\n",
              "      <th>711</th>\n",
              "      <td>23000</td>\n",
              "    </tr>\n",
              "    <tr>\n",
              "      <th>617</th>\n",
              "      <td>15000</td>\n",
              "    </tr>\n",
              "    <tr>\n",
              "      <th>497</th>\n",
              "      <td>23000</td>\n",
              "    </tr>\n",
              "  </tbody>\n",
              "</table>\n",
              "</div>"
            ],
            "text/plain": [
              "     PremiumPrice\n",
              "462         15000\n",
              "883         15000\n",
              "711         23000\n",
              "617         15000\n",
              "497         23000"
            ]
          },
          "metadata": {},
          "execution_count": 54
        }
      ]
    },
    {
      "cell_type": "code",
      "metadata": {
        "colab": {
          "base_uri": "https://localhost:8080/",
          "height": 206
        },
        "id": "eOqfOUsRQy5I",
        "outputId": "fcade041-55a3-4a05-abfe-1462fa7d126a"
      },
      "source": [
        "compare_df = compare_df.reset_index(drop=True)\n",
        "compare_df.head()"
      ],
      "execution_count": 55,
      "outputs": [
        {
          "output_type": "execute_result",
          "data": {
            "text/html": [
              "<div>\n",
              "<style scoped>\n",
              "    .dataframe tbody tr th:only-of-type {\n",
              "        vertical-align: middle;\n",
              "    }\n",
              "\n",
              "    .dataframe tbody tr th {\n",
              "        vertical-align: top;\n",
              "    }\n",
              "\n",
              "    .dataframe thead th {\n",
              "        text-align: right;\n",
              "    }\n",
              "</style>\n",
              "<table border=\"1\" class=\"dataframe\">\n",
              "  <thead>\n",
              "    <tr style=\"text-align: right;\">\n",
              "      <th></th>\n",
              "      <th>PremiumPrice</th>\n",
              "    </tr>\n",
              "  </thead>\n",
              "  <tbody>\n",
              "    <tr>\n",
              "      <th>0</th>\n",
              "      <td>15000</td>\n",
              "    </tr>\n",
              "    <tr>\n",
              "      <th>1</th>\n",
              "      <td>15000</td>\n",
              "    </tr>\n",
              "    <tr>\n",
              "      <th>2</th>\n",
              "      <td>23000</td>\n",
              "    </tr>\n",
              "    <tr>\n",
              "      <th>3</th>\n",
              "      <td>15000</td>\n",
              "    </tr>\n",
              "    <tr>\n",
              "      <th>4</th>\n",
              "      <td>23000</td>\n",
              "    </tr>\n",
              "  </tbody>\n",
              "</table>\n",
              "</div>"
            ],
            "text/plain": [
              "   PremiumPrice\n",
              "0         15000\n",
              "1         15000\n",
              "2         23000\n",
              "3         15000\n",
              "4         23000"
            ]
          },
          "metadata": {},
          "execution_count": 55
        }
      ]
    },
    {
      "cell_type": "code",
      "metadata": {
        "colab": {
          "base_uri": "https://localhost:8080/",
          "height": 206
        },
        "id": "G0WNjfwfI5U5",
        "outputId": "ca33c4dc-9280-4c74-c425-e1ca0b87b79b"
      },
      "source": [
        "df_y_predict = pd.DataFrame(y_predict,columns=['y_predict'])\n",
        "df_y_predict.head()"
      ],
      "execution_count": 56,
      "outputs": [
        {
          "output_type": "execute_result",
          "data": {
            "text/html": [
              "<div>\n",
              "<style scoped>\n",
              "    .dataframe tbody tr th:only-of-type {\n",
              "        vertical-align: middle;\n",
              "    }\n",
              "\n",
              "    .dataframe tbody tr th {\n",
              "        vertical-align: top;\n",
              "    }\n",
              "\n",
              "    .dataframe thead th {\n",
              "        text-align: right;\n",
              "    }\n",
              "</style>\n",
              "<table border=\"1\" class=\"dataframe\">\n",
              "  <thead>\n",
              "    <tr style=\"text-align: right;\">\n",
              "      <th></th>\n",
              "      <th>y_predict</th>\n",
              "    </tr>\n",
              "  </thead>\n",
              "  <tbody>\n",
              "    <tr>\n",
              "      <th>0</th>\n",
              "      <td>20250.0</td>\n",
              "    </tr>\n",
              "    <tr>\n",
              "      <th>1</th>\n",
              "      <td>15020.0</td>\n",
              "    </tr>\n",
              "    <tr>\n",
              "      <th>2</th>\n",
              "      <td>24460.0</td>\n",
              "    </tr>\n",
              "    <tr>\n",
              "      <th>3</th>\n",
              "      <td>15750.0</td>\n",
              "    </tr>\n",
              "    <tr>\n",
              "      <th>4</th>\n",
              "      <td>23000.0</td>\n",
              "    </tr>\n",
              "  </tbody>\n",
              "</table>\n",
              "</div>"
            ],
            "text/plain": [
              "   y_predict\n",
              "0    20250.0\n",
              "1    15020.0\n",
              "2    24460.0\n",
              "3    15750.0\n",
              "4    23000.0"
            ]
          },
          "metadata": {},
          "execution_count": 56
        }
      ]
    },
    {
      "cell_type": "code",
      "metadata": {
        "colab": {
          "base_uri": "https://localhost:8080/",
          "height": 677
        },
        "id": "cS1KxvfpJjDI",
        "outputId": "765c1340-2d37-4973-efdd-8c57b5496df5"
      },
      "source": [
        "compare_df.insert(1,'PremiumPrice_predict',df_y_predict)\n",
        "compare_df.head(20)"
      ],
      "execution_count": 57,
      "outputs": [
        {
          "output_type": "execute_result",
          "data": {
            "text/html": [
              "<div>\n",
              "<style scoped>\n",
              "    .dataframe tbody tr th:only-of-type {\n",
              "        vertical-align: middle;\n",
              "    }\n",
              "\n",
              "    .dataframe tbody tr th {\n",
              "        vertical-align: top;\n",
              "    }\n",
              "\n",
              "    .dataframe thead th {\n",
              "        text-align: right;\n",
              "    }\n",
              "</style>\n",
              "<table border=\"1\" class=\"dataframe\">\n",
              "  <thead>\n",
              "    <tr style=\"text-align: right;\">\n",
              "      <th></th>\n",
              "      <th>PremiumPrice</th>\n",
              "      <th>PremiumPrice_predict</th>\n",
              "    </tr>\n",
              "  </thead>\n",
              "  <tbody>\n",
              "    <tr>\n",
              "      <th>0</th>\n",
              "      <td>15000</td>\n",
              "      <td>20250.0</td>\n",
              "    </tr>\n",
              "    <tr>\n",
              "      <th>1</th>\n",
              "      <td>15000</td>\n",
              "      <td>15020.0</td>\n",
              "    </tr>\n",
              "    <tr>\n",
              "      <th>2</th>\n",
              "      <td>23000</td>\n",
              "      <td>24460.0</td>\n",
              "    </tr>\n",
              "    <tr>\n",
              "      <th>3</th>\n",
              "      <td>15000</td>\n",
              "      <td>15750.0</td>\n",
              "    </tr>\n",
              "    <tr>\n",
              "      <th>4</th>\n",
              "      <td>23000</td>\n",
              "      <td>23000.0</td>\n",
              "    </tr>\n",
              "    <tr>\n",
              "      <th>5</th>\n",
              "      <td>35000</td>\n",
              "      <td>28970.0</td>\n",
              "    </tr>\n",
              "    <tr>\n",
              "      <th>6</th>\n",
              "      <td>29000</td>\n",
              "      <td>29640.0</td>\n",
              "    </tr>\n",
              "    <tr>\n",
              "      <th>7</th>\n",
              "      <td>25000</td>\n",
              "      <td>25000.0</td>\n",
              "    </tr>\n",
              "    <tr>\n",
              "      <th>8</th>\n",
              "      <td>38000</td>\n",
              "      <td>30530.0</td>\n",
              "    </tr>\n",
              "    <tr>\n",
              "      <th>9</th>\n",
              "      <td>23000</td>\n",
              "      <td>23210.0</td>\n",
              "    </tr>\n",
              "    <tr>\n",
              "      <th>10</th>\n",
              "      <td>25000</td>\n",
              "      <td>25000.0</td>\n",
              "    </tr>\n",
              "    <tr>\n",
              "      <th>11</th>\n",
              "      <td>23000</td>\n",
              "      <td>23140.0</td>\n",
              "    </tr>\n",
              "    <tr>\n",
              "      <th>12</th>\n",
              "      <td>30000</td>\n",
              "      <td>28680.0</td>\n",
              "    </tr>\n",
              "    <tr>\n",
              "      <th>13</th>\n",
              "      <td>23000</td>\n",
              "      <td>26630.0</td>\n",
              "    </tr>\n",
              "    <tr>\n",
              "      <th>14</th>\n",
              "      <td>29000</td>\n",
              "      <td>28970.0</td>\n",
              "    </tr>\n",
              "    <tr>\n",
              "      <th>15</th>\n",
              "      <td>15000</td>\n",
              "      <td>16280.0</td>\n",
              "    </tr>\n",
              "    <tr>\n",
              "      <th>16</th>\n",
              "      <td>28000</td>\n",
              "      <td>28020.0</td>\n",
              "    </tr>\n",
              "    <tr>\n",
              "      <th>17</th>\n",
              "      <td>23000</td>\n",
              "      <td>23520.0</td>\n",
              "    </tr>\n",
              "    <tr>\n",
              "      <th>18</th>\n",
              "      <td>23000</td>\n",
              "      <td>23780.0</td>\n",
              "    </tr>\n",
              "    <tr>\n",
              "      <th>19</th>\n",
              "      <td>35000</td>\n",
              "      <td>34120.0</td>\n",
              "    </tr>\n",
              "  </tbody>\n",
              "</table>\n",
              "</div>"
            ],
            "text/plain": [
              "    PremiumPrice  PremiumPrice_predict\n",
              "0          15000               20250.0\n",
              "1          15000               15020.0\n",
              "2          23000               24460.0\n",
              "3          15000               15750.0\n",
              "4          23000               23000.0\n",
              "5          35000               28970.0\n",
              "6          29000               29640.0\n",
              "7          25000               25000.0\n",
              "8          38000               30530.0\n",
              "9          23000               23210.0\n",
              "10         25000               25000.0\n",
              "11         23000               23140.0\n",
              "12         30000               28680.0\n",
              "13         23000               26630.0\n",
              "14         29000               28970.0\n",
              "15         15000               16280.0\n",
              "16         28000               28020.0\n",
              "17         23000               23520.0\n",
              "18         23000               23780.0\n",
              "19         35000               34120.0"
            ]
          },
          "metadata": {},
          "execution_count": 57
        }
      ]
    },
    {
      "cell_type": "markdown",
      "metadata": {
        "id": "mL1Im1WyMyn0"
      },
      "source": [
        "save model"
      ]
    },
    {
      "cell_type": "code",
      "metadata": {
        "colab": {
          "base_uri": "https://localhost:8080/"
        },
        "id": "ReHY8Zpl1LZK",
        "outputId": "801db313-c3b7-438b-8eac-3cd81f21fdad"
      },
      "source": [
        "import joblib\n",
        "joblib.dump(mod_rfr, \"rf_model.joblib\")"
      ],
      "execution_count": 58,
      "outputs": [
        {
          "output_type": "execute_result",
          "data": {
            "text/plain": [
              "['rf_model.joblib']"
            ]
          },
          "metadata": {},
          "execution_count": 58
        }
      ]
    }
  ]
}